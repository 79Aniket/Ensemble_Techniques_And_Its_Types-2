{
 "cells": [
  {
   "cell_type": "markdown",
   "id": "0fa4d4b4-36fc-4df5-93d4-d095fb4e3f6d",
   "metadata": {},
   "source": [
    "## Q1. How does bagging reduce overfitting in decision trees?"
   ]
  },
  {
   "cell_type": "markdown",
   "id": "4bcd5363-d8f7-45cd-9f45-d5734ef97316",
   "metadata": {},
   "source": [
    "## Bagging is an ensemble learning technique that can be used to reduce overfitting in decision trees. It works by creating a number of bootstrap samples from the training data. Each bootstrap sample is a random subset of the original training data, with replacement. This means that some data points may be included multiple times in a bootstrap sample, while others may not be included at all.\n",
    "## Bagging reduces overfitting in decision trees by averaging out the errors of the individual trees. Each decision tree is trained on a different bootstrap sample of the training data, so each tree will learn to fit the data slightly differently. When the predictions from all of the trees are averaged, the errors tend to cancel each other out, resulting in a more accurate and less overfitting model."
   ]
  },
  {
   "cell_type": "code",
   "execution_count": null,
   "id": "a1364a73-9032-45fe-ac4d-87abb12c3276",
   "metadata": {},
   "outputs": [],
   "source": []
  },
  {
   "cell_type": "markdown",
   "id": "f91a633d-58c7-4c66-9a66-686ee80ccbb5",
   "metadata": {},
   "source": [
    "## Q2. What are the advantages and disadvantages of using different types of base learners in bagging?"
   ]
  },
  {
   "cell_type": "markdown",
   "id": "b6753a01-8c5e-4f2a-8b47-896be6ffd7f3",
   "metadata": {},
   "source": [
    "## Advantages of using different types of base learners in bagging:\n",
    "## Improved accuracy.\n",
    "## Reduced overfitting.\n",
    "## Increased robustness.\n",
    "\n",
    "\n",
    "## Disadvantages of using different types of base learners in bagging:\n",
    "## Increased computational cost.\n",
    "## Increased complexity."
   ]
  },
  {
   "cell_type": "code",
   "execution_count": null,
   "id": "a5596d41-e102-4575-a8fb-1cba06157f87",
   "metadata": {},
   "outputs": [],
   "source": []
  },
  {
   "cell_type": "markdown",
   "id": "292b42bd-e548-4d1d-b3ae-8ad877d3b493",
   "metadata": {},
   "source": [
    "## Q3. How does the choice of base learner affect the bias-variance tradeoff in bagging?"
   ]
  },
  {
   "cell_type": "markdown",
   "id": "886b406a-1ad3-4d65-95de-9bf572dcbf2f",
   "metadata": {},
   "source": [
    "## The choice of base learner affects the bias-variance tradeoff in bagging in the following ways:\n",
    "\n",
    "## Bias: Bagging is more effective at reducing variance than bias. This means that it is better suited for high-variance base learners.\n",
    "## Variance: Bagging can increase the bias of low-variance base learners. This is because bagging averages the predictions from the individual base learners, and if the base learners are already low-variance, then the ensemble model will also be low-variance.\n",
    "\n",
    "## In general, it is best to choose a base learner with a bias-variance tradeoff that is appropriate for the problem that is being solved. For example, if the problem is noisy and prone to overfitting, then it is best to choose a high-variance base learner. Bagging can then be used to reduce the variance of the model."
   ]
  },
  {
   "cell_type": "code",
   "execution_count": null,
   "id": "b5d4f7d5-c8e2-44f4-844b-d8d4fe2ba308",
   "metadata": {},
   "outputs": [],
   "source": []
  },
  {
   "cell_type": "markdown",
   "id": "9068b120-4527-4c59-a47d-bdfbe825742a",
   "metadata": {},
   "source": [
    "## Q4. Can bagging be used for both classification and regression tasks? How does it differ in each case?"
   ]
  },
  {
   "cell_type": "markdown",
   "id": "25b1cced-da07-4572-8e41-293af5f18de4",
   "metadata": {},
   "source": [
    "## Yes, bagging can be used for both classification and regression tasks. The basic idea is the same in both cases: to create a number of bootstrap samples from the training data and train a base learner on each sample. The predictions from the base learners are then aggregated to produce a final prediction.\n",
    "\n",
    "## However, there is one key difference between bagging for classification and bagging for regression:\n",
    "## Classification.\n",
    "## Regression."
   ]
  },
  {
   "cell_type": "code",
   "execution_count": null,
   "id": "4f2be1d0-72b1-4c76-b998-dc8aa2819323",
   "metadata": {},
   "outputs": [],
   "source": []
  },
  {
   "cell_type": "markdown",
   "id": "2d0a9ef3-1136-4ff0-8aeb-0db4c058593f",
   "metadata": {},
   "source": [
    "## Q5. What is the role of ensemble size in bagging? How many models should be included in the ensemble?"
   ]
  },
  {
   "cell_type": "markdown",
   "id": "4721eefd-9378-4103-8bc5-f199ddaab7d3",
   "metadata": {},
   "source": [
    "## Bagging is a powerful ensemble method which helps to reduce variance, and by extension, prevent overfitting.\n",
    "\n"
   ]
  },
  {
   "cell_type": "code",
   "execution_count": null,
   "id": "e5ddf14f-ee29-4516-8cc6-ce484559f59f",
   "metadata": {},
   "outputs": [],
   "source": []
  },
  {
   "cell_type": "markdown",
   "id": "ccafc655-75cb-4456-97bd-f1f776978c3e",
   "metadata": {},
   "source": [
    "## Q6. Can you provide an example of a real-world application of bagging in machine learning?"
   ]
  },
  {
   "cell_type": "markdown",
   "id": "676c10ec-ca31-4034-9da7-b685a3d22b26",
   "metadata": {},
   "source": [
    "## Some example of a real-world application of bagging in machine learning:\n",
    "## Image recognition.\n",
    "## Fraud detection.\n",
    "## Medical diagnosis.\n",
    "## Natural language processing.\n"
   ]
  },
  {
   "cell_type": "code",
   "execution_count": null,
   "id": "00979720-762a-4759-9397-cb22d87ac36f",
   "metadata": {},
   "outputs": [],
   "source": []
  }
 ],
 "metadata": {
  "kernelspec": {
   "display_name": "Python 3 (ipykernel)",
   "language": "python",
   "name": "python3"
  },
  "language_info": {
   "codemirror_mode": {
    "name": "ipython",
    "version": 3
   },
   "file_extension": ".py",
   "mimetype": "text/x-python",
   "name": "python",
   "nbconvert_exporter": "python",
   "pygments_lexer": "ipython3",
   "version": "3.10.8"
  }
 },
 "nbformat": 4,
 "nbformat_minor": 5
}
